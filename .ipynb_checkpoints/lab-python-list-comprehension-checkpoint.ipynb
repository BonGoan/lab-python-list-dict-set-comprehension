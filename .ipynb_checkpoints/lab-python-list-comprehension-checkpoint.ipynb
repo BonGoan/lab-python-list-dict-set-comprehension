{
 "cells": [
  {
   "cell_type": "markdown",
   "id": "25d7736c-ba17-4aff-b6bb-66eba20fbf4e",
   "metadata": {},
   "source": [
    "# Lab | List, Dict and Set Comprehension"
   ]
  },
  {
   "cell_type": "markdown",
   "id": "7dd3cbde-675a-4b81-92c3-f728846dbe06",
   "metadata": {},
   "source": [
    "## Exercise: Managing Customer Orders Optimized with Comprehension"
   ]
  },
  {
   "cell_type": "markdown",
   "id": "5d500160-2fb7-4777-b5e4-09d45ebaf328",
   "metadata": {},
   "source": [
    "In the previous exercise, you developed a program to manage customer orders and inventory. Now, let's take it a step further and incorporate comprehension into your code.\n",
    "\n",
    "Follow the steps below to complete the exercise:\n",
    "\n",
    "1. Review your code from the previous exercise and identify areas where you can apply comprehension to simplify and streamline your code. \n",
    "\n",
    "    - *Hint: Apply it to initialize inventory, updating the inventory and printing the updated inventory.*\n",
    "    \n",
    "    - For example, in initializing the inventory, we could have:\n",
    "    \n",
    "        ```python\n",
    "        def initialize_inventory(products):\n",
    "            inventory = {product: int(input(f\"Enter the quantity of {product}s available: \")) for product in products}\n",
    "            return inventory\n",
    "\n",
    "        ```\n",
    "<br>\n",
    "    \n",
    "    \n",
    "2. Modify the function get_customer_orders so it prompts the user to enter the number of customer orders and gathers the product names using a loop and user input. Use comprehension.\n",
    "\n",
    "3. Add a new function to calculate the total price of the customer order. For each product in customer_orders, prompt the user to enter the price of that product. Use comprehension to calculate the total price. Note: assume that the user can only have 1 unit of each product.\n",
    "\n",
    "4. Modify the update_inventory function to remove the product from the inventory if its quantity becomes zero after fulfilling the customer orders. Use comprehension to filter out the products with a quantity of zero from the inventory.\n",
    "\n",
    "5. Print the total price of the customer order.\n",
    "\n",
    "Your code should produce output similar to the following:\n",
    "\n",
    "```python\n",
    "Enter the quantity of t-shirts available:  5\n",
    "Enter the quantity of mugs available:  4\n",
    "Enter the quantity of hats available:  3\n",
    "Enter the quantity of books available:  2\n",
    "Enter the quantity of keychains available:  1\n",
    "Enter the number of customer orders:  2\n",
    "Enter the name of a product that a customer wants to order:  hat\n",
    "Enter the name of a product that a customer wants to order:  keychain\n",
    "\n",
    "Order Statistics:\n",
    "Total Products Ordered: 2\n",
    "Percentage of Unique Products Ordered: 40.0\n",
    "\n",
    "Updated Inventory:\n",
    "t-shirt: 5\n",
    "mug: 4\n",
    "hat: 2\n",
    "book: 2\n",
    "Enter the price of keychain:  5\n",
    "Enter the price of hat:  10\n",
    "Total Price: 15.0\n",
    "\n",
    "```\n"
   ]
  },
  {
   "cell_type": "code",
   "execution_count": 23,
   "id": "a8453132-cbaf-4553-a030-fb82e4602802",
   "metadata": {},
   "outputs": [
    {
     "name": "stdout",
     "output_type": "stream",
     "text": [
      "None\n"
     ]
    }
   ],
   "source": [
    "#1   \n",
    "def update_inventory (customer_orders, inventory):\n",
    "     inventory = [inventory.update({product: inventory[product] - 1}) if inventory[product] > 0 \n",
    "                 else print(f\"'{product}' is out of stock or not in the inventory!\") \n",
    "                 for product in customer_orders if product in inventory]\n",
    "     return\n",
    "\n",
    "inventory = { \"t-shirt\": 5, \"mug\": 4, \"hat\": 3, \"book\": 2, \"keychain\": 1}\n",
    "customer_orders = { \"hat\", \"keychain\"}\n",
    "updated_inventory = update_inventory(customer_orders, inventory)\n",
    "print(updated_inventory)\n"
   ]
  },
  {
   "cell_type": "code",
   "execution_count": null,
   "id": "c8a72882-c9d0-4243-9075-f12a8222b076",
   "metadata": {},
   "outputs": [],
   "source": [
    "#1\n",
    "def initialize_inventory (products):\n",
    "    inventory = { product: int (input (f\"Enter the quantity for {product} available: \")) for product in products }\n",
    "    return inventory"
   ]
  },
  {
   "cell_type": "code",
   "execution_count": 24,
   "id": "124a1aed-4925-4a71-97b8-2b00eb57c9fa",
   "metadata": {},
   "outputs": [],
   "source": [
    "#2\n",
    "def get_customer_orders():\n",
    "    num_orders = int(input(\"Enter the number of products you want to order: \").strip())\n",
    "    customer_orders = {input(f\"Enter product {i + 1}: \").strip().lower() for i in range(num_orders)}\n",
    "    return customer_orders\n",
    "\n"
   ]
  },
  {
   "cell_type": "code",
   "execution_count": 26,
   "id": "001d6ee6-fde3-44fd-ba7a-808e12e61bea",
   "metadata": {},
   "outputs": [
    {
     "name": "stdin",
     "output_type": "stream",
     "text": [
      "Enter the price for hat: $ 5\n",
      "Enter the price for keychain: $ 10\n"
     ]
    },
    {
     "name": "stdout",
     "output_type": "stream",
     "text": [
      "Total Price of the Order: $15.00\n"
     ]
    }
   ],
   "source": [
    "#3\n",
    "def calculate_total_price(customer_orders):\n",
    "    prices = {product: float(input(f\"Enter the price for {product}: $\")) for product in customer_orders}\n",
    "    total_price = sum(prices.values())\n",
    "    return total_price\n",
    "\n",
    "customer_orders = { \"hat\", \"keychain\"}\n",
    "total_price = calculate_total_price(customer_orders)\n",
    "print(f\"Total Price of the Order: ${total_price:.2f}\")"
   ]
  },
  {
   "cell_type": "code",
   "execution_count": 27,
   "id": "66e41825-6d83-4540-a1fa-5b6fd9a22d83",
   "metadata": {},
   "outputs": [],
   "source": [
    "#4\n",
    "def update_inventory(customer_orders, inventory):\n",
    "    for product in customer_orders:\n",
    "        if product in inventory and inventory[product] > 0:\n",
    "            inventory[product] -= 1  # Subtract 1 from the quantity\n",
    "        else:\n",
    "            print(f\"'{product}' is out of stock or not in the inventory!\")\n",
    "    inventory = {product: quantity for product, quantity in inventory.items() if quantity > 0}\n",
    "    \n",
    "    return inventory\n"
   ]
  },
  {
   "cell_type": "code",
   "execution_count": 30,
   "id": "3a538179-b9a9-45f9-bdd5-730612cc1115",
   "metadata": {},
   "outputs": [],
   "source": [
    "def calculate_order_statistics (customer_orders, products):\n",
    "    total_products_ordered = len(customer_orders)\n",
    "    total_products = len(products)\n",
    "    order_statistics = (total_products_ordered / total_products)* 100\n",
    "    return order_statistics\n",
    "    \n",
    "def print_order_statistics (order_statistics):\n",
    "    total_products_ordered = len(customer_orders)\n",
    "    total_products = len(products)\n",
    "    percentage_ordered = (total_products_ordered / total_products)* 100\n",
    "    order_statistics = total_products_ordered, percentage_ordered \n",
    "    print(f\"Total Products Ordered: {total_products_ordered}\")\n",
    "    print(f\"Percentage of Unique Products Ordered: {percentage_ordered:.0f}%\")\n",
    "    "
   ]
  },
  {
   "cell_type": "code",
   "execution_count": 32,
   "id": "0ff370ac-0303-4ee9-86c4-0bb0a9f523b0",
   "metadata": {},
   "outputs": [
    {
     "name": "stdin",
     "output_type": "stream",
     "text": [
      "Enter the quantity for t-shirt available:  5\n",
      "Enter the quantity for mug available:  4\n",
      "Enter the quantity for hat available:  3\n",
      "Enter the quantity for book available:  2\n",
      "Enter the quantity for keychain available:  1\n",
      "Enter the number of products you want to order:  2\n",
      "Enter product 1:  hat\n",
      "Enter product 2:  keychain\n"
     ]
    },
    {
     "name": "stdout",
     "output_type": "stream",
     "text": [
      "Total Products Ordered: 2\n",
      "Percentage of Unique Products Ordered: 40%\n"
     ]
    },
    {
     "name": "stdin",
     "output_type": "stream",
     "text": [
      "Enter the price for hat: $ 5\n",
      "Enter the price for keychain: $ 10\n"
     ]
    },
    {
     "name": "stdout",
     "output_type": "stream",
     "text": [
      "Total Price of the Order: $15.00\n"
     ]
    }
   ],
   "source": [
    "#5\n",
    "products = [\"t-shirt\", \"mug\", \"hat\", \"book\", \"keychain\"]\n",
    "\n",
    "inventory = initialize_inventory(products)\n",
    "\n",
    "customer_orders = get_customer_orders()\n",
    "\n",
    "inventory = update_inventory(customer_orders, inventory)\n",
    "\n",
    "order_statistics = calculate_order_statistics(customer_orders, products)\n",
    "\n",
    "print_order_statistics(order_statistics)\n",
    "\n",
    "total_price = calculate_total_price(customer_orders)\n",
    "print(f\"Total Price of the Order: ${total_price:.2f}\")"
   ]
  },
  {
   "cell_type": "code",
   "execution_count": null,
   "id": "c95278a1-f291-404a-84dd-a371739114e2",
   "metadata": {},
   "outputs": [],
   "source": []
  },
  {
   "cell_type": "code",
   "execution_count": null,
   "id": "522da66a-b60d-4004-b650-b48337e696b3",
   "metadata": {},
   "outputs": [],
   "source": []
  }
 ],
 "metadata": {
  "kernelspec": {
   "display_name": "Python 3 (ipykernel)",
   "language": "python",
   "name": "python3"
  },
  "language_info": {
   "codemirror_mode": {
    "name": "ipython",
    "version": 3
   },
   "file_extension": ".py",
   "mimetype": "text/x-python",
   "name": "python",
   "nbconvert_exporter": "python",
   "pygments_lexer": "ipython3",
   "version": "3.12.4"
  }
 },
 "nbformat": 4,
 "nbformat_minor": 5
}
